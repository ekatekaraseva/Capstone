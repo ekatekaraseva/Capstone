{
 "cells": [
  {
   "cell_type": "code",
   "execution_count": 1,
   "metadata": {},
   "outputs": [],
   "source": [
    "from bs4 import BeautifulSoup\n",
    "import requests\n",
    "import pandas as pd"
   ]
  },
  {
   "cell_type": "markdown",
   "metadata": {},
   "source": [
    "## Getting the table from wiki, stored as list of lists (res)"
   ]
  },
  {
   "cell_type": "code",
   "execution_count": 2,
   "metadata": {},
   "outputs": [],
   "source": [
    "wiki_url = 'https://en.wikipedia.org/wiki/List_of_postal_codes_of_Canada:_M'\n",
    "page = requests.get(wiki_url).text\n",
    "html = BeautifulSoup(page)\n",
    "table = html.find('table', 'wikitable')\n",
    "links = table.findAll('td')\n",
    "\n",
    "res = []\n",
    "for i in range(0,len(links)-2,3):\n",
    "    first = str(links[i]).replace('<td>','').replace('\\n</td>','')\n",
    "    second = str(links[i+1]).replace('<td>','').replace('\\n</td>','')\n",
    "    third = str(links[i+2]).replace('<td>','').replace('\\n</td>','')\n",
    "    res.append([first,second,third])"
   ]
  },
  {
   "cell_type": "markdown",
   "metadata": {},
   "source": [
    "## Dropping the rows with Borough = not assigned, replacing Neighbourhood = not assigned to the Borough"
   ]
  },
  {
   "cell_type": "code",
   "execution_count": 3,
   "metadata": {},
   "outputs": [],
   "source": [
    "wiki_table = pd.DataFrame(res)\n",
    "wiki_table.columns = ['Postal Code', 'Borough','Neighbourhood']\n",
    "wiki_table = wiki_table[wiki_table['Borough'] != 'Not assigned'].reset_index(drop=True)\n",
    "\n",
    "wiki_table.loc[wiki_table['Neighbourhood'] == 'Not assigned','Neighbourhood'] = wiki_table.loc[wiki_table['Neighbourhood'] == 'Not assigned','Borough']"
   ]
  },
  {
   "cell_type": "markdown",
   "metadata": {},
   "source": [
    "## Checking all postal codes have only 1 row"
   ]
  },
  {
   "cell_type": "code",
   "execution_count": 4,
   "metadata": {},
   "outputs": [
    {
     "data": {
      "text/plain": [
       "array([1], dtype=int64)"
      ]
     },
     "execution_count": 4,
     "metadata": {},
     "output_type": "execute_result"
    }
   ],
   "source": [
    "wiki_table.groupby(['Postal Code']).count()['Borough'].unique()"
   ]
  },
  {
   "cell_type": "code",
   "execution_count": 5,
   "metadata": {},
   "outputs": [
    {
     "name": "stdout",
     "output_type": "stream",
     "text": [
      "Number of rows = 103\n"
     ]
    }
   ],
   "source": [
    "print(\"Number of rows =\", wiki_table.shape[0])"
   ]
  }
 ],
 "metadata": {
  "kernelspec": {
   "display_name": "Python 3",
   "language": "python",
   "name": "python3"
  },
  "language_info": {
   "codemirror_mode": {
    "name": "ipython",
    "version": 3
   },
   "file_extension": ".py",
   "mimetype": "text/x-python",
   "name": "python",
   "nbconvert_exporter": "python",
   "pygments_lexer": "ipython3",
   "version": "3.7.1"
  }
 },
 "nbformat": 4,
 "nbformat_minor": 4
}
